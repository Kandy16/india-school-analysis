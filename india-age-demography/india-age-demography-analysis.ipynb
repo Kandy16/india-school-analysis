{
 "cells": [
  {
   "cell_type": "code",
   "execution_count": 16,
   "metadata": {
    "collapsed": true
   },
   "outputs": [],
   "source": [
    "import pandas as pd\n",
    "import numpy as np"
   ]
  },
  {
   "cell_type": "code",
   "execution_count": 17,
   "metadata": {
    "collapsed": false
   },
   "outputs": [
    {
     "data": {
      "text/html": [
       "<div>\n",
       "<table border=\"1\" class=\"dataframe\">\n",
       "  <thead>\n",
       "    <tr style=\"text-align: right;\">\n",
       "      <th></th>\n",
       "      <th>name</th>\n",
       "      <th>state code</th>\n",
       "      <th>dist. Code</th>\n",
       "      <th>Area Name</th>\n",
       "      <th>Age</th>\n",
       "      <th>Total Persons</th>\n",
       "    </tr>\n",
       "  </thead>\n",
       "  <tbody>\n",
       "    <tr>\n",
       "      <th>0</th>\n",
       "      <td>C3713</td>\n",
       "      <td>1</td>\n",
       "      <td>0</td>\n",
       "      <td>State - JAMMU &amp; KASHMIR (01)</td>\n",
       "      <td>All ages</td>\n",
       "      <td>12541302</td>\n",
       "    </tr>\n",
       "    <tr>\n",
       "      <th>1</th>\n",
       "      <td>C3713</td>\n",
       "      <td>1</td>\n",
       "      <td>0</td>\n",
       "      <td>State - JAMMU &amp; KASHMIR (01)</td>\n",
       "      <td>0</td>\n",
       "      <td>275312</td>\n",
       "    </tr>\n",
       "    <tr>\n",
       "      <th>2</th>\n",
       "      <td>C3713</td>\n",
       "      <td>1</td>\n",
       "      <td>0</td>\n",
       "      <td>State - JAMMU &amp; KASHMIR (01)</td>\n",
       "      <td>1</td>\n",
       "      <td>274393</td>\n",
       "    </tr>\n",
       "    <tr>\n",
       "      <th>3</th>\n",
       "      <td>C3713</td>\n",
       "      <td>1</td>\n",
       "      <td>0</td>\n",
       "      <td>State - JAMMU &amp; KASHMIR (01)</td>\n",
       "      <td>2</td>\n",
       "      <td>285931</td>\n",
       "    </tr>\n",
       "    <tr>\n",
       "      <th>4</th>\n",
       "      <td>C3713</td>\n",
       "      <td>1</td>\n",
       "      <td>0</td>\n",
       "      <td>State - JAMMU &amp; KASHMIR (01)</td>\n",
       "      <td>3</td>\n",
       "      <td>286440</td>\n",
       "    </tr>\n",
       "  </tbody>\n",
       "</table>\n",
       "</div>"
      ],
      "text/plain": [
       "    name  state code  dist. Code                     Area Name       Age  \\\n",
       "0  C3713           1           0  State - JAMMU & KASHMIR (01)  All ages   \n",
       "1  C3713           1           0  State - JAMMU & KASHMIR (01)         0   \n",
       "2  C3713           1           0  State - JAMMU & KASHMIR (01)         1   \n",
       "3  C3713           1           0  State - JAMMU & KASHMIR (01)         2   \n",
       "4  C3713           1           0  State - JAMMU & KASHMIR (01)         3   \n",
       "\n",
       "   Total Persons  \n",
       "0       12541302  \n",
       "1         275312  \n",
       "2         274393  \n",
       "3         285931  \n",
       "4         286440  "
      ]
     },
     "execution_count": 17,
     "metadata": {},
     "output_type": "execute_result"
    }
   ],
   "source": [
    "data = pd.read_csv('india-age-demography.csv')\n",
    "data.head()"
   ]
  },
  {
   "cell_type": "code",
   "execution_count": 18,
   "metadata": {
    "collapsed": false
   },
   "outputs": [
    {
     "data": {
      "text/plain": [
       "[0,\n",
       " 1,\n",
       " 2,\n",
       " 3,\n",
       " 4,\n",
       " 5,\n",
       " 6,\n",
       " 7,\n",
       " 8,\n",
       " 9,\n",
       " 10,\n",
       " 11,\n",
       " 12,\n",
       " 13,\n",
       " 14,\n",
       " 15,\n",
       " 16,\n",
       " 17,\n",
       " 18,\n",
       " 19,\n",
       " 20,\n",
       " 21,\n",
       " 22,\n",
       " 23,\n",
       " 24,\n",
       " 25,\n",
       " 26,\n",
       " 27,\n",
       " 28,\n",
       " 29,\n",
       " 30,\n",
       " 31,\n",
       " 32,\n",
       " 33,\n",
       " 34,\n",
       " 35,\n",
       " 36,\n",
       " 37,\n",
       " 38,\n",
       " 39,\n",
       " 40,\n",
       " 41,\n",
       " 42,\n",
       " 43,\n",
       " 44,\n",
       " 45,\n",
       " 46,\n",
       " 47,\n",
       " 48,\n",
       " 49,\n",
       " 50,\n",
       " 51,\n",
       " 52,\n",
       " 53,\n",
       " 54,\n",
       " 55,\n",
       " 56,\n",
       " 57,\n",
       " 58,\n",
       " 59,\n",
       " 60,\n",
       " 61,\n",
       " 62,\n",
       " 63,\n",
       " 64,\n",
       " 65,\n",
       " 66,\n",
       " 67,\n",
       " 68,\n",
       " 69,\n",
       " 70,\n",
       " 71,\n",
       " 72,\n",
       " 73,\n",
       " 74,\n",
       " 75,\n",
       " 76,\n",
       " 77,\n",
       " 78,\n",
       " 79,\n",
       " 80,\n",
       " 81,\n",
       " 82,\n",
       " 83,\n",
       " 84,\n",
       " 85,\n",
       " 86,\n",
       " 87,\n",
       " 88,\n",
       " 89,\n",
       " 90,\n",
       " 91,\n",
       " 92,\n",
       " 93,\n",
       " 94,\n",
       " 95,\n",
       " 96,\n",
       " 97,\n",
       " 98,\n",
       " 99]"
      ]
     },
     "execution_count": 18,
     "metadata": {},
     "output_type": "execute_result"
    }
   ],
   "source": [
    "# remove all the unwanted rows - it is a mixture of integer and string\n",
    "#remove string elements\n",
    "data = data[data['Age'] != 'All ages']\n",
    "data = data[data['Age'] != 'Age not stated']\n",
    "data = data[data['Age'] != '100+']\n",
    "data['Age'] = data['Age'].astype(int)\n",
    "data.head()\n",
    "list(set(data['Age']))"
   ]
  },
  {
   "cell_type": "code",
   "execution_count": 19,
   "metadata": {
    "collapsed": false
   },
   "outputs": [
    {
     "data": {
      "text/html": [
       "<div>\n",
       "<table border=\"1\" class=\"dataframe\">\n",
       "  <thead>\n",
       "    <tr style=\"text-align: right;\">\n",
       "      <th></th>\n",
       "      <th>name</th>\n",
       "      <th>state code</th>\n",
       "      <th>dist. Code</th>\n",
       "      <th>Area Name</th>\n",
       "      <th>Age</th>\n",
       "      <th>Total Persons</th>\n",
       "    </tr>\n",
       "  </thead>\n",
       "  <tbody>\n",
       "    <tr>\n",
       "      <th>4</th>\n",
       "      <td>C3713</td>\n",
       "      <td>1</td>\n",
       "      <td>0</td>\n",
       "      <td>State - JAMMU &amp; KASHMIR (01)</td>\n",
       "      <td>3</td>\n",
       "      <td>286440</td>\n",
       "    </tr>\n",
       "    <tr>\n",
       "      <th>5</th>\n",
       "      <td>C3713</td>\n",
       "      <td>1</td>\n",
       "      <td>0</td>\n",
       "      <td>State - JAMMU &amp; KASHMIR (01)</td>\n",
       "      <td>4</td>\n",
       "      <td>292808</td>\n",
       "    </tr>\n",
       "    <tr>\n",
       "      <th>6</th>\n",
       "      <td>C3713</td>\n",
       "      <td>1</td>\n",
       "      <td>0</td>\n",
       "      <td>State - JAMMU &amp; KASHMIR (01)</td>\n",
       "      <td>5</td>\n",
       "      <td>303136</td>\n",
       "    </tr>\n",
       "    <tr>\n",
       "      <th>7</th>\n",
       "      <td>C3713</td>\n",
       "      <td>1</td>\n",
       "      <td>0</td>\n",
       "      <td>State - JAMMU &amp; KASHMIR (01)</td>\n",
       "      <td>6</td>\n",
       "      <td>300885</td>\n",
       "    </tr>\n",
       "    <tr>\n",
       "      <th>8</th>\n",
       "      <td>C3713</td>\n",
       "      <td>1</td>\n",
       "      <td>0</td>\n",
       "      <td>State - JAMMU &amp; KASHMIR (01)</td>\n",
       "      <td>7</td>\n",
       "      <td>270538</td>\n",
       "    </tr>\n",
       "  </tbody>\n",
       "</table>\n",
       "</div>"
      ],
      "text/plain": [
       "    name  state code  dist. Code                     Area Name  Age  \\\n",
       "4  C3713           1           0  State - JAMMU & KASHMIR (01)    3   \n",
       "5  C3713           1           0  State - JAMMU & KASHMIR (01)    4   \n",
       "6  C3713           1           0  State - JAMMU & KASHMIR (01)    5   \n",
       "7  C3713           1           0  State - JAMMU & KASHMIR (01)    6   \n",
       "8  C3713           1           0  State - JAMMU & KASHMIR (01)    7   \n",
       "\n",
       "   Total Persons  \n",
       "4         286440  \n",
       "5         292808  \n",
       "6         303136  \n",
       "7         300885  \n",
       "8         270538  "
      ]
     },
     "execution_count": 19,
     "metadata": {},
     "output_type": "execute_result"
    }
   ],
   "source": [
    "#students are considered to be of age 3 and 20\n",
    "data = data[data['Age']>= 3]\n",
    "data = data[data['Age']<= 20]\n",
    "data.head()"
   ]
  },
  {
   "cell_type": "code",
   "execution_count": 20,
   "metadata": {
    "collapsed": false
   },
   "outputs": [
    {
     "name": "stdout",
     "output_type": "stream",
     "text": [
      "States Count -  35\n",
      "['State - TAMIL NADU (33)', 'State - CHHATTISGARH (22)', 'State - ARUNACHAL PRADESH (12)', 'State - UTTARAKHAND (05)', 'State - MANIPUR (14)', 'State - CHANDIGARH (04)', 'State - MAHARASHTRA (27)', 'State - PUNJAB (03)', 'State - HARYANA (06)', 'State - GUJARAT (24)', 'State - SIKKIM (11)', 'State - DAMAN & DIU (25)', 'State - KERALA (32)', 'State - GOA (30)', 'State - JAMMU & KASHMIR (01)', 'State - ANDHRA PRADESH (28)', 'State - ODISHA (21)', 'State - MEGHALAYA (17)', 'State - HIMACHAL PRADESH (02)', 'State - PUDUCHERRY (34)', 'State - MADHYA PRADESH (23)', 'State - DADRA & NAGAR HAVELI (26)', 'State - LAKSHADWEEP (31)', 'State - NCT OF DELHI (07)', 'State - ASSAM (18)', 'State - WEST BENGAL (19)', 'State - JHARKHAND (20)', 'State - TRIPURA (16)', 'State - KARNATAKA (29)', 'State - RAJASTHAN (08)', 'State - MIZORAM (15)', 'State - BIHAR (10)', 'State - ANDAMAN & NICOBAR ISLANDS (35)', 'State - NAGALAND (13)', 'State - UTTAR PRADESH (09)']\n"
     ]
    }
   ],
   "source": [
    "state_names = list(set(data['Area Name']))\n",
    "print('States Count - ',len(state_names))\n",
    "print(state_names)"
   ]
  },
  {
   "cell_type": "code",
   "execution_count": 21,
   "metadata": {
    "collapsed": false
   },
   "outputs": [],
   "source": [
    "state_names = sorted(state_names)\n",
    "expected_state_names = ['Andaman and Nicobar Islands',\n",
    " 'Andhra Pradesh',\n",
    " 'Arunachal Pradesh',\n",
    " 'Assam',\n",
    " 'Bihar',\n",
    " 'Chandigarh',\n",
    " 'Chhattisgarh',\n",
    " 'Dadra and Nagar Haveli',\n",
    " 'Daman and Diu',\n",
    " 'Delhi',\n",
    " 'Goa',\n",
    " 'Gujarat',\n",
    " 'Haryana',\n",
    " 'Himachal Pradesh',\n",
    " 'Jammu and Kashmir',\n",
    " 'Jharkhand',\n",
    " 'Karnataka',\n",
    " 'Kerala',\n",
    " 'Lakshadweep',\n",
    " 'Madhya Pradesh',\n",
    " 'Maharashtra',\n",
    " 'Manipur',\n",
    " 'Meghalaya',\n",
    " 'Mizoram',\n",
    " 'Nagaland',\n",
    " 'Orissa',\n",
    " 'Puducherry',\n",
    " 'Punjab',\n",
    " 'Rajasthan',\n",
    " 'Sikkim',\n",
    " 'Tamil Nadu',\n",
    " 'Tripura',\n",
    " 'Uttar Pradesh',\n",
    " 'Uttarakhand',\n",
    " 'West Bengal']\n",
    "expected_state_names = sorted(expected_state_names)"
   ]
  },
  {
   "cell_type": "code",
   "execution_count": 22,
   "metadata": {
    "collapsed": false,
    "scrolled": true
   },
   "outputs": [
    {
     "name": "stdout",
     "output_type": "stream",
     "text": [
      "35\n",
      "35\n"
     ]
    }
   ],
   "source": [
    "print(len(state_names))\n",
    "print(len(expected_state_names))"
   ]
  },
  {
   "cell_type": "code",
   "execution_count": 23,
   "metadata": {
    "collapsed": false
   },
   "outputs": [
    {
     "name": "stdout",
     "output_type": "stream",
     "text": [
      "State - ANDAMAN & NICOBAR ISLANDS (35) - Andaman and Nicobar Islands\n",
      "State - ANDHRA PRADESH (28) - Andhra Pradesh\n",
      "State - ARUNACHAL PRADESH (12) - Arunachal Pradesh\n",
      "State - ASSAM (18) - Assam\n",
      "State - BIHAR (10) - Bihar\n",
      "State - CHANDIGARH (04) - Chandigarh\n",
      "State - CHHATTISGARH (22) - Chhattisgarh\n",
      "State - DADRA & NAGAR HAVELI (26) - Dadra and Nagar Haveli\n",
      "State - DAMAN & DIU (25) - Daman and Diu\n",
      "State - GOA (30) - Delhi\n",
      "State - GUJARAT (24) - Goa\n",
      "State - HARYANA (06) - Gujarat\n",
      "State - HIMACHAL PRADESH (02) - Haryana\n",
      "State - JAMMU & KASHMIR (01) - Himachal Pradesh\n",
      "State - JHARKHAND (20) - Jammu and Kashmir\n",
      "State - KARNATAKA (29) - Jharkhand\n",
      "State - KERALA (32) - Karnataka\n",
      "State - LAKSHADWEEP (31) - Kerala\n",
      "State - MADHYA PRADESH (23) - Lakshadweep\n",
      "State - MAHARASHTRA (27) - Madhya Pradesh\n",
      "State - MANIPUR (14) - Maharashtra\n",
      "State - MEGHALAYA (17) - Manipur\n",
      "State - MIZORAM (15) - Meghalaya\n",
      "State - NAGALAND (13) - Mizoram\n",
      "State - NCT OF DELHI (07) - Nagaland\n",
      "State - ODISHA (21) - Orissa\n",
      "State - PUDUCHERRY (34) - Puducherry\n",
      "State - PUNJAB (03) - Punjab\n",
      "State - RAJASTHAN (08) - Rajasthan\n",
      "State - SIKKIM (11) - Sikkim\n",
      "State - TAMIL NADU (33) - Tamil Nadu\n",
      "State - TRIPURA (16) - Tripura\n",
      "State - UTTAR PRADESH (09) - Uttar Pradesh\n",
      "State - UTTARAKHAND (05) - Uttarakhand\n",
      "State - WEST BENGAL (19) - West Bengal\n"
     ]
    }
   ],
   "source": [
    "#compares the state names to be replaced against the right ones\n",
    "for i in range(0, len(state_names)):\n",
    "    print(state_names[i]+' - '+expected_state_names[i])\n",
    "    \n",
    "    #- delhi seems to be off"
   ]
  },
  {
   "cell_type": "code",
   "execution_count": 26,
   "metadata": {
    "collapsed": true
   },
   "outputs": [],
   "source": [
    "#change delhi to a name so that it will fall in order\n",
    "data.replace('State - NCT OF DELHI (07)','State - Delhi',inplace=True)\n",
    "state_names = sorted(list(set(data['Area Name'])))"
   ]
  },
  {
   "cell_type": "code",
   "execution_count": 27,
   "metadata": {
    "collapsed": false
   },
   "outputs": [
    {
     "name": "stdout",
     "output_type": "stream",
     "text": [
      "State - ANDAMAN & NICOBAR ISLANDS (35) - Andaman and Nicobar Islands\n",
      "State - ANDHRA PRADESH (28) - Andhra Pradesh\n",
      "State - ARUNACHAL PRADESH (12) - Arunachal Pradesh\n",
      "State - ASSAM (18) - Assam\n",
      "State - BIHAR (10) - Bihar\n",
      "State - CHANDIGARH (04) - Chandigarh\n",
      "State - CHHATTISGARH (22) - Chhattisgarh\n",
      "State - DADRA & NAGAR HAVELI (26) - Dadra and Nagar Haveli\n",
      "State - DAMAN & DIU (25) - Daman and Diu\n",
      "State - Delhi - Delhi\n",
      "State - GOA (30) - Goa\n",
      "State - GUJARAT (24) - Gujarat\n",
      "State - HARYANA (06) - Haryana\n",
      "State - HIMACHAL PRADESH (02) - Himachal Pradesh\n",
      "State - JAMMU & KASHMIR (01) - Jammu and Kashmir\n",
      "State - JHARKHAND (20) - Jharkhand\n",
      "State - KARNATAKA (29) - Karnataka\n",
      "State - KERALA (32) - Kerala\n",
      "State - LAKSHADWEEP (31) - Lakshadweep\n",
      "State - MADHYA PRADESH (23) - Madhya Pradesh\n",
      "State - MAHARASHTRA (27) - Maharashtra\n",
      "State - MANIPUR (14) - Manipur\n",
      "State - MEGHALAYA (17) - Meghalaya\n",
      "State - MIZORAM (15) - Mizoram\n",
      "State - NAGALAND (13) - Nagaland\n",
      "State - ODISHA (21) - Orissa\n",
      "State - PUDUCHERRY (34) - Puducherry\n",
      "State - PUNJAB (03) - Punjab\n",
      "State - RAJASTHAN (08) - Rajasthan\n",
      "State - SIKKIM (11) - Sikkim\n",
      "State - TAMIL NADU (33) - Tamil Nadu\n",
      "State - TRIPURA (16) - Tripura\n",
      "State - UTTAR PRADESH (09) - Uttar Pradesh\n",
      "State - UTTARAKHAND (05) - Uttarakhand\n",
      "State - WEST BENGAL (19) - West Bengal\n"
     ]
    }
   ],
   "source": [
    "for i in range(0, len(state_names)):\n",
    "    print(state_names[i]+' - '+expected_state_names[i])"
   ]
  },
  {
   "cell_type": "code",
   "execution_count": 29,
   "metadata": {
    "collapsed": false
   },
   "outputs": [
    {
     "data": {
      "text/html": [
       "<div>\n",
       "<table border=\"1\" class=\"dataframe\">\n",
       "  <thead>\n",
       "    <tr style=\"text-align: right;\">\n",
       "      <th></th>\n",
       "      <th>name</th>\n",
       "      <th>state code</th>\n",
       "      <th>dist. Code</th>\n",
       "      <th>Area Name</th>\n",
       "      <th>Age</th>\n",
       "      <th>Total Persons</th>\n",
       "    </tr>\n",
       "  </thead>\n",
       "  <tbody>\n",
       "    <tr>\n",
       "      <th>4</th>\n",
       "      <td>C3713</td>\n",
       "      <td>1</td>\n",
       "      <td>0</td>\n",
       "      <td>Jammu and Kashmir</td>\n",
       "      <td>3</td>\n",
       "      <td>286440</td>\n",
       "    </tr>\n",
       "    <tr>\n",
       "      <th>5</th>\n",
       "      <td>C3713</td>\n",
       "      <td>1</td>\n",
       "      <td>0</td>\n",
       "      <td>Jammu and Kashmir</td>\n",
       "      <td>4</td>\n",
       "      <td>292808</td>\n",
       "    </tr>\n",
       "    <tr>\n",
       "      <th>6</th>\n",
       "      <td>C3713</td>\n",
       "      <td>1</td>\n",
       "      <td>0</td>\n",
       "      <td>Jammu and Kashmir</td>\n",
       "      <td>5</td>\n",
       "      <td>303136</td>\n",
       "    </tr>\n",
       "    <tr>\n",
       "      <th>7</th>\n",
       "      <td>C3713</td>\n",
       "      <td>1</td>\n",
       "      <td>0</td>\n",
       "      <td>Jammu and Kashmir</td>\n",
       "      <td>6</td>\n",
       "      <td>300885</td>\n",
       "    </tr>\n",
       "    <tr>\n",
       "      <th>8</th>\n",
       "      <td>C3713</td>\n",
       "      <td>1</td>\n",
       "      <td>0</td>\n",
       "      <td>Jammu and Kashmir</td>\n",
       "      <td>7</td>\n",
       "      <td>270538</td>\n",
       "    </tr>\n",
       "  </tbody>\n",
       "</table>\n",
       "</div>"
      ],
      "text/plain": [
       "    name  state code  dist. Code          Area Name  Age  Total Persons\n",
       "4  C3713           1           0  Jammu and Kashmir    3         286440\n",
       "5  C3713           1           0  Jammu and Kashmir    4         292808\n",
       "6  C3713           1           0  Jammu and Kashmir    5         303136\n",
       "7  C3713           1           0  Jammu and Kashmir    6         300885\n",
       "8  C3713           1           0  Jammu and Kashmir    7         270538"
      ]
     },
     "execution_count": 29,
     "metadata": {},
     "output_type": "execute_result"
    }
   ],
   "source": [
    "#replace all the names with the right ones\n",
    "for i in range(0, len(state_names)):\n",
    "    data.replace(state_names[i], expected_state_names[i], inplace=True)\n",
    "data.head()"
   ]
  },
  {
   "cell_type": "code",
   "execution_count": 31,
   "metadata": {
    "collapsed": false
   },
   "outputs": [
    {
     "name": "stdout",
     "output_type": "stream",
     "text": [
      "['Andaman and Nicobar Islands', 'Andhra Pradesh', 'Arunachal Pradesh', 'Assam', 'Bihar', 'Chandigarh', 'Chhattisgarh', 'Dadra and Nagar Haveli', 'Daman and Diu', 'Delhi', 'Goa', 'Gujarat', 'Haryana', 'Himachal Pradesh', 'Jammu and Kashmir', 'Jharkhand', 'Karnataka', 'Kerala', 'Lakshadweep', 'Madhya Pradesh', 'Maharashtra', 'Manipur', 'Meghalaya', 'Mizoram', 'Nagaland', 'Orissa', 'Puducherry', 'Punjab', 'Rajasthan', 'Sikkim', 'Tamil Nadu', 'Tripura', 'Uttar Pradesh', 'Uttarakhand', 'West Bengal']\n"
     ]
    }
   ],
   "source": [
    "state_names = sorted(list(set(data['Area Name'])))\n",
    "print(state_names)"
   ]
  },
  {
   "cell_type": "code",
   "execution_count": 34,
   "metadata": {
    "collapsed": false
   },
   "outputs": [],
   "source": [
    "new_data = pd.DataFrame(columns=['State/UT', '#Expected Students'])\n",
    "for state in state_names:\n",
    "    temp = data['Total Persons'][data['Area Name'] == state]\n",
    "    new_data.loc[new_data.shape[0]] = [state,temp.sum()]\n",
    "    \n"
   ]
  },
  {
   "cell_type": "code",
   "execution_count": 35,
   "metadata": {
    "collapsed": false
   },
   "outputs": [
    {
     "data": {
      "text/html": [
       "<div>\n",
       "<table border=\"1\" class=\"dataframe\">\n",
       "  <thead>\n",
       "    <tr style=\"text-align: right;\">\n",
       "      <th></th>\n",
       "      <th>State/UT</th>\n",
       "      <th>#Expected Students</th>\n",
       "    </tr>\n",
       "  </thead>\n",
       "  <tbody>\n",
       "    <tr>\n",
       "      <th>0</th>\n",
       "      <td>Andaman and Nicobar Islands</td>\n",
       "      <td>115804.0</td>\n",
       "    </tr>\n",
       "    <tr>\n",
       "      <th>1</th>\n",
       "      <td>Andhra Pradesh</td>\n",
       "      <td>28407102.0</td>\n",
       "    </tr>\n",
       "    <tr>\n",
       "      <th>2</th>\n",
       "      <td>Arunachal Pradesh</td>\n",
       "      <td>601671.0</td>\n",
       "    </tr>\n",
       "    <tr>\n",
       "      <th>3</th>\n",
       "      <td>Assam</td>\n",
       "      <td>12202657.0</td>\n",
       "    </tr>\n",
       "    <tr>\n",
       "      <th>4</th>\n",
       "      <td>Bihar</td>\n",
       "      <td>46396084.0</td>\n",
       "    </tr>\n",
       "  </tbody>\n",
       "</table>\n",
       "</div>"
      ],
      "text/plain": [
       "                      State/UT  #Expected Students\n",
       "0  Andaman and Nicobar Islands            115804.0\n",
       "1               Andhra Pradesh          28407102.0\n",
       "2            Arunachal Pradesh            601671.0\n",
       "3                        Assam          12202657.0\n",
       "4                        Bihar          46396084.0"
      ]
     },
     "execution_count": 35,
     "metadata": {},
     "output_type": "execute_result"
    }
   ],
   "source": [
    "new_data.head()"
   ]
  },
  {
   "cell_type": "code",
   "execution_count": 36,
   "metadata": {
    "collapsed": true
   },
   "outputs": [],
   "source": [
    "new_data.to_csv('state-wise-demography-students.csv',index=False)"
   ]
  },
  {
   "cell_type": "code",
   "execution_count": null,
   "metadata": {
    "collapsed": true
   },
   "outputs": [],
   "source": []
  }
 ],
 "metadata": {
  "anaconda-cloud": {},
  "kernelspec": {
   "display_name": "Python [default]",
   "language": "python",
   "name": "python3"
  },
  "language_info": {
   "codemirror_mode": {
    "name": "ipython",
    "version": 3
   },
   "file_extension": ".py",
   "mimetype": "text/x-python",
   "name": "python",
   "nbconvert_exporter": "python",
   "pygments_lexer": "ipython3",
   "version": "3.5.2"
  }
 },
 "nbformat": 4,
 "nbformat_minor": 1
}
