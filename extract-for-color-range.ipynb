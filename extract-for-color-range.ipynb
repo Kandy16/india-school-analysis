{
 "cells": [
  {
   "cell_type": "code",
   "execution_count": 1,
   "metadata": {
    "collapsed": true
   },
   "outputs": [],
   "source": [
    "import pandas as pd\n",
    "import numpy as np\n",
    "import json"
   ]
  },
  {
   "cell_type": "code",
   "execution_count": 3,
   "metadata": {
    "collapsed": false
   },
   "outputs": [
    {
     "data": {
      "text/html": [
       "<div>\n",
       "<table border=\"1\" class=\"dataframe\">\n",
       "  <thead>\n",
       "    <tr style=\"text-align: right;\">\n",
       "      <th></th>\n",
       "      <th>State/UT</th>\n",
       "      <th>#schools-100-people</th>\n",
       "      <th>#teachers-100-people</th>\n",
       "      <th>#students-100-people</th>\n",
       "    </tr>\n",
       "  </thead>\n",
       "  <tbody>\n",
       "    <tr>\n",
       "      <th>0</th>\n",
       "      <td>Andaman and Nicobar Islands</td>\n",
       "      <td>0.411903</td>\n",
       "      <td>4.081033</td>\n",
       "      <td>86.584229</td>\n",
       "    </tr>\n",
       "    <tr>\n",
       "      <th>1</th>\n",
       "      <td>Andhra Pradesh</td>\n",
       "      <td>0.457959</td>\n",
       "      <td>1.729698</td>\n",
       "      <td>64.094768</td>\n",
       "    </tr>\n",
       "    <tr>\n",
       "      <th>2</th>\n",
       "      <td>Arunachal Pradesh</td>\n",
       "      <td>0.578223</td>\n",
       "      <td>2.716767</td>\n",
       "      <td>70.965528</td>\n",
       "    </tr>\n",
       "    <tr>\n",
       "      <th>3</th>\n",
       "      <td>Assam</td>\n",
       "      <td>0.479084</td>\n",
       "      <td>2.174297</td>\n",
       "      <td>49.475307</td>\n",
       "    </tr>\n",
       "    <tr>\n",
       "      <th>4</th>\n",
       "      <td>Bihar</td>\n",
       "      <td>0.166320</td>\n",
       "      <td>0.664888</td>\n",
       "      <td>55.932440</td>\n",
       "    </tr>\n",
       "  </tbody>\n",
       "</table>\n",
       "</div>"
      ],
      "text/plain": [
       "                      State/UT  #schools-100-people  #teachers-100-people  \\\n",
       "0  Andaman and Nicobar Islands             0.411903              4.081033   \n",
       "1               Andhra Pradesh             0.457959              1.729698   \n",
       "2            Arunachal Pradesh             0.578223              2.716767   \n",
       "3                        Assam             0.479084              2.174297   \n",
       "4                        Bihar             0.166320              0.664888   \n",
       "\n",
       "   #students-100-people  \n",
       "0             86.584229  \n",
       "1             64.094768  \n",
       "2             70.965528  \n",
       "3             49.475307  \n",
       "4             55.932440  "
      ]
     },
     "execution_count": 3,
     "metadata": {},
     "output_type": "execute_result"
    }
   ],
   "source": [
    "final_data = pd.read_csv('final-data.csv')\n",
    "final_data.head()"
   ]
  },
  {
   "cell_type": "code",
   "execution_count": 5,
   "metadata": {
    "collapsed": false
   },
   "outputs": [
    {
     "name": "stdout",
     "output_type": "stream",
     "text": [
      "#schools-100-people\n",
      "#teachers-100-people\n",
      "#students-100-people\n"
     ]
    }
   ],
   "source": [
    "for col in final_data.columns:\n",
    "    if(col != 'State/UT'):\n",
    "        print(col)"
   ]
  },
  {
   "cell_type": "code",
   "execution_count": 12,
   "metadata": {
    "collapsed": false
   },
   "outputs": [
    {
     "data": {
      "text/plain": [
       "'{\"#students-100-people\": [49.184770057399994, 54.12441670105555, 59.06406334471111, 64.00370998836667, 68.94335663202222, 73.88300327567777, 78.82264991933332, 83.76229656298887, 88.70194320664442, 93.64158985029997], \"#schools-100-people\": [0.08963139449999999, 0.19854093351111113, 0.30745047252222224, 0.41636001153333335, 0.5252695505444445, 0.6341790895555556, 0.7430886285666667, 0.8519981675777778, 0.9609077065888889, 1.0698172456000001], \"#teachers-100-people\": [0.6648880107999999, 1.2022646714555554, 1.7396413321111108, 2.277017992766666, 2.8143946534222213, 3.3517713140777765, 3.8891479747333317, 4.426524635388887, 4.963901296044442, 5.501277956699997]}'"
      ]
     },
     "execution_count": 12,
     "metadata": {},
     "output_type": "execute_result"
    }
   ],
   "source": [
    "col_range = {}\n",
    "for col in final_data.columns:\n",
    "    if(col != 'State/UT'):\n",
    "        minimum = final_data[col].min()\n",
    "        maximum = final_data[col].max()\n",
    "        range_data = []\n",
    "        delta = (maximum - minimum) / 9\n",
    "        start = minimum\n",
    "        while(start <= maximum):\n",
    "            range_data.append(start)\n",
    "            start = start + delta\n",
    "        col_range[col]=range_data\n",
    "        #print(minimum)\n",
    "        #print(maximum)\n",
    "#print(range_data)\n",
    "#print(len(range_data))\n",
    "json.dumps(col_range)"
   ]
  },
  {
   "cell_type": "code",
   "execution_count": 14,
   "metadata": {
    "collapsed": true
   },
   "outputs": [],
   "source": [
    "fp = open('final-col-range.json','w')\n",
    "fp.write(json.dumps(col_range))\n",
    "fp.close()"
   ]
  },
  {
   "cell_type": "code",
   "execution_count": null,
   "metadata": {
    "collapsed": true
   },
   "outputs": [],
   "source": []
  }
 ],
 "metadata": {
  "anaconda-cloud": {},
  "kernelspec": {
   "display_name": "Python [default]",
   "language": "python",
   "name": "python3"
  },
  "language_info": {
   "codemirror_mode": {
    "name": "ipython",
    "version": 3
   },
   "file_extension": ".py",
   "mimetype": "text/x-python",
   "name": "python",
   "nbconvert_exporter": "python",
   "pygments_lexer": "ipython3",
   "version": "3.5.2"
  }
 },
 "nbformat": 4,
 "nbformat_minor": 1
}
