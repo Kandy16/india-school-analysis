{
 "cells": [
  {
   "cell_type": "code",
   "execution_count": 18,
   "metadata": {
    "collapsed": true
   },
   "outputs": [],
   "source": [
    "import pandas as pd\n",
    "import numpy as np\n",
    "import matplotlib\n",
    "%matplotlib inline"
   ]
  },
  {
   "cell_type": "code",
   "execution_count": 19,
   "metadata": {
    "collapsed": false
   },
   "outputs": [
    {
     "data": {
      "text/html": [
       "<div>\n",
       "<table border=\"1\" class=\"dataframe\">\n",
       "  <thead>\n",
       "    <tr style=\"text-align: right;\">\n",
       "      <th></th>\n",
       "      <th>State/UT</th>\n",
       "      <th>#students-secondary</th>\n",
       "      <th>#students-primary</th>\n",
       "      <th>#students-total</th>\n",
       "    </tr>\n",
       "  </thead>\n",
       "  <tbody>\n",
       "    <tr>\n",
       "      <th>0</th>\n",
       "      <td>Andaman and Nicobar Islands</td>\n",
       "      <td>45162</td>\n",
       "      <td>55106</td>\n",
       "      <td>100268</td>\n",
       "    </tr>\n",
       "    <tr>\n",
       "      <th>1</th>\n",
       "      <td>Andhra Pradesh</td>\n",
       "      <td>7438966</td>\n",
       "      <td>10768500</td>\n",
       "      <td>18207466</td>\n",
       "    </tr>\n",
       "    <tr>\n",
       "      <th>2</th>\n",
       "      <td>Arunachal Pradesh</td>\n",
       "      <td>119238</td>\n",
       "      <td>307741</td>\n",
       "      <td>426979</td>\n",
       "    </tr>\n",
       "    <tr>\n",
       "      <th>3</th>\n",
       "      <td>Assam</td>\n",
       "      <td>1762926</td>\n",
       "      <td>4274376</td>\n",
       "      <td>6037302</td>\n",
       "    </tr>\n",
       "    <tr>\n",
       "      <th>4</th>\n",
       "      <td>Bihar</td>\n",
       "      <td>6135756</td>\n",
       "      <td>19814706</td>\n",
       "      <td>25950462</td>\n",
       "    </tr>\n",
       "  </tbody>\n",
       "</table>\n",
       "</div>"
      ],
      "text/plain": [
       "                      State/UT  #students-secondary  #students-primary  \\\n",
       "0  Andaman and Nicobar Islands                45162              55106   \n",
       "1               Andhra Pradesh              7438966           10768500   \n",
       "2            Arunachal Pradesh               119238             307741   \n",
       "3                        Assam              1762926            4274376   \n",
       "4                        Bihar              6135756           19814706   \n",
       "\n",
       "   #students-total  \n",
       "0           100268  \n",
       "1         18207466  \n",
       "2           426979  \n",
       "3          6037302  \n",
       "4         25950462  "
      ]
     },
     "execution_count": 19,
     "metadata": {},
     "output_type": "execute_result"
    }
   ],
   "source": [
    "data = pd.read_csv('#students-initial.csv')\n",
    "data.head()"
   ]
  },
  {
   "cell_type": "code",
   "execution_count": 20,
   "metadata": {
    "collapsed": false
   },
   "outputs": [
    {
     "data": {
      "text/html": [
       "<div>\n",
       "<table border=\"1\" class=\"dataframe\">\n",
       "  <thead>\n",
       "    <tr style=\"text-align: right;\">\n",
       "      <th></th>\n",
       "      <th>State/UT</th>\n",
       "      <th>#students-total</th>\n",
       "    </tr>\n",
       "  </thead>\n",
       "  <tbody>\n",
       "    <tr>\n",
       "      <th>0</th>\n",
       "      <td>Andaman and Nicobar Islands</td>\n",
       "      <td>100268</td>\n",
       "    </tr>\n",
       "    <tr>\n",
       "      <th>1</th>\n",
       "      <td>Andhra Pradesh</td>\n",
       "      <td>18207466</td>\n",
       "    </tr>\n",
       "    <tr>\n",
       "      <th>2</th>\n",
       "      <td>Arunachal Pradesh</td>\n",
       "      <td>426979</td>\n",
       "    </tr>\n",
       "    <tr>\n",
       "      <th>3</th>\n",
       "      <td>Assam</td>\n",
       "      <td>6037302</td>\n",
       "    </tr>\n",
       "    <tr>\n",
       "      <th>4</th>\n",
       "      <td>Bihar</td>\n",
       "      <td>25950462</td>\n",
       "    </tr>\n",
       "  </tbody>\n",
       "</table>\n",
       "</div>"
      ],
      "text/plain": [
       "                      State/UT  #students-total\n",
       "0  Andaman and Nicobar Islands           100268\n",
       "1               Andhra Pradesh         18207466\n",
       "2            Arunachal Pradesh           426979\n",
       "3                        Assam          6037302\n",
       "4                        Bihar         25950462"
      ]
     },
     "execution_count": 20,
     "metadata": {},
     "output_type": "execute_result"
    }
   ],
   "source": [
    "data.drop(['#students-secondary','#students-primary'],axis=1,inplace=True)\n",
    "data.head()"
   ]
  },
  {
   "cell_type": "code",
   "execution_count": 21,
   "metadata": {
    "collapsed": false
   },
   "outputs": [
    {
     "data": {
      "text/html": [
       "<div>\n",
       "<table border=\"1\" class=\"dataframe\">\n",
       "  <thead>\n",
       "    <tr style=\"text-align: right;\">\n",
       "      <th></th>\n",
       "      <th>State/UT</th>\n",
       "      <th>#students-total</th>\n",
       "    </tr>\n",
       "  </thead>\n",
       "  <tbody>\n",
       "    <tr>\n",
       "      <th>0</th>\n",
       "      <td>Andaman and Nicobar Islands</td>\n",
       "      <td>100268</td>\n",
       "    </tr>\n",
       "  </tbody>\n",
       "</table>\n",
       "</div>"
      ],
      "text/plain": [
       "                      State/UT  #students-total\n",
       "0  Andaman and Nicobar Islands           100268"
      ]
     },
     "execution_count": 21,
     "metadata": {},
     "output_type": "execute_result"
    }
   ],
   "source": [
    "data[data['State/UT']=='Andaman and Nicobar Islands']\n"
   ]
  },
  {
   "cell_type": "code",
   "execution_count": 22,
   "metadata": {
    "collapsed": false
   },
   "outputs": [
    {
     "data": {
      "text/html": [
       "<div>\n",
       "<table border=\"1\" class=\"dataframe\">\n",
       "  <thead>\n",
       "    <tr style=\"text-align: right;\">\n",
       "      <th></th>\n",
       "      <th>State/UT</th>\n",
       "      <th>Nursery (Pre-Primary/Pre-Basic) - Girls</th>\n",
       "      <th>Nursery (Pre-Primary/Pre-Basic) - Total</th>\n",
       "      <th>Primary - (I-V) - Girls</th>\n",
       "      <th>Primary - (I-V) - Total</th>\n",
       "      <th>Middle - (VI-VIII) - Girls</th>\n",
       "      <th>Middle - (VI-VIII) - Total</th>\n",
       "      <th>High/Higher Secondary - (IX-XII) - Girls</th>\n",
       "      <th>High/Higher Secondary - (IX-XII) - Total</th>\n",
       "      <th>(Pre-Primary to XII) - GRAND TOTAL - Girls</th>\n",
       "      <th>(Pre-Primary to XII) - GRAND TOTAL - Total</th>\n",
       "    </tr>\n",
       "  </thead>\n",
       "  <tbody>\n",
       "    <tr>\n",
       "      <th>0</th>\n",
       "      <td>Andhra Pradesh</td>\n",
       "      <td>171489</td>\n",
       "      <td>390476</td>\n",
       "      <td>3491576</td>\n",
       "      <td>7124940</td>\n",
       "      <td>1793484</td>\n",
       "      <td>3643560</td>\n",
       "      <td>1783415</td>\n",
       "      <td>3719483</td>\n",
       "      <td>7239964</td>\n",
       "      <td>14878459</td>\n",
       "    </tr>\n",
       "    <tr>\n",
       "      <th>1</th>\n",
       "      <td>Arunachal Pradesh</td>\n",
       "      <td>24646</td>\n",
       "      <td>52451</td>\n",
       "      <td>108725</td>\n",
       "      <td>225979</td>\n",
       "      <td>39627</td>\n",
       "      <td>81762</td>\n",
       "      <td>27714</td>\n",
       "      <td>59619</td>\n",
       "      <td>200712</td>\n",
       "      <td>419811</td>\n",
       "    </tr>\n",
       "    <tr>\n",
       "      <th>2</th>\n",
       "      <td>Assam</td>\n",
       "      <td>378843</td>\n",
       "      <td>771082</td>\n",
       "      <td>1460074</td>\n",
       "      <td>2922714</td>\n",
       "      <td>674772</td>\n",
       "      <td>1351662</td>\n",
       "      <td>402521</td>\n",
       "      <td>881463</td>\n",
       "      <td>2916210</td>\n",
       "      <td>5926921</td>\n",
       "    </tr>\n",
       "    <tr>\n",
       "      <th>3</th>\n",
       "      <td>Bihar</td>\n",
       "      <td>98</td>\n",
       "      <td>220</td>\n",
       "      <td>6857499</td>\n",
       "      <td>14934274</td>\n",
       "      <td>2214656</td>\n",
       "      <td>4880432</td>\n",
       "      <td>1276280</td>\n",
       "      <td>3067878</td>\n",
       "      <td>10348533</td>\n",
       "      <td>22882804</td>\n",
       "    </tr>\n",
       "    <tr>\n",
       "      <th>4</th>\n",
       "      <td>Chhattisgarh</td>\n",
       "      <td>42295</td>\n",
       "      <td>95569</td>\n",
       "      <td>1553940</td>\n",
       "      <td>3231614</td>\n",
       "      <td>673867</td>\n",
       "      <td>1405827</td>\n",
       "      <td>462630</td>\n",
       "      <td>1000850</td>\n",
       "      <td>2732732</td>\n",
       "      <td>5733860</td>\n",
       "    </tr>\n",
       "  </tbody>\n",
       "</table>\n",
       "</div>"
      ],
      "text/plain": [
       "            State/UT  Nursery (Pre-Primary/Pre-Basic) - Girls  \\\n",
       "0     Andhra Pradesh                                   171489   \n",
       "1  Arunachal Pradesh                                    24646   \n",
       "2              Assam                                   378843   \n",
       "3              Bihar                                       98   \n",
       "4       Chhattisgarh                                    42295   \n",
       "\n",
       "   Nursery (Pre-Primary/Pre-Basic) - Total  Primary - (I-V) - Girls  \\\n",
       "0                                   390476                  3491576   \n",
       "1                                    52451                   108725   \n",
       "2                                   771082                  1460074   \n",
       "3                                      220                  6857499   \n",
       "4                                    95569                  1553940   \n",
       "\n",
       "   Primary - (I-V) - Total  Middle - (VI-VIII) - Girls  \\\n",
       "0                  7124940                     1793484   \n",
       "1                   225979                       39627   \n",
       "2                  2922714                      674772   \n",
       "3                 14934274                     2214656   \n",
       "4                  3231614                      673867   \n",
       "\n",
       "   Middle - (VI-VIII) - Total  High/Higher Secondary - (IX-XII) - Girls  \\\n",
       "0                     3643560                                   1783415   \n",
       "1                       81762                                     27714   \n",
       "2                     1351662                                    402521   \n",
       "3                     4880432                                   1276280   \n",
       "4                     1405827                                    462630   \n",
       "\n",
       "   High/Higher Secondary - (IX-XII) - Total  \\\n",
       "0                                   3719483   \n",
       "1                                     59619   \n",
       "2                                    881463   \n",
       "3                                   3067878   \n",
       "4                                   1000850   \n",
       "\n",
       "   (Pre-Primary to XII) - GRAND TOTAL - Girls  \\\n",
       "0                                     7239964   \n",
       "1                                      200712   \n",
       "2                                     2916210   \n",
       "3                                    10348533   \n",
       "4                                     2732732   \n",
       "\n",
       "   (Pre-Primary to XII) - GRAND TOTAL - Total  \n",
       "0                                    14878459  \n",
       "1                                      419811  \n",
       "2                                     5926921  \n",
       "3                                    22882804  \n",
       "4                                     5733860  "
      ]
     },
     "execution_count": 22,
     "metadata": {},
     "output_type": "execute_result"
    }
   ],
   "source": [
    "scholars = pd.read_csv('new-data-set/faculty-strength-quality-measure/#scholars-in-recognised-institutions-2014.csv')\n",
    "scholars.head()"
   ]
  },
  {
   "cell_type": "code",
   "execution_count": 23,
   "metadata": {
    "collapsed": false
   },
   "outputs": [
    {
     "data": {
      "text/html": [
       "<div>\n",
       "<table border=\"1\" class=\"dataframe\">\n",
       "  <thead>\n",
       "    <tr style=\"text-align: right;\">\n",
       "      <th></th>\n",
       "      <th>State/UT</th>\n",
       "      <th>Primary - (I-V) - Total</th>\n",
       "      <th>Middle - (VI-VIII) - Total</th>\n",
       "      <th>High/Higher Secondary - (IX-XII) - Total</th>\n",
       "    </tr>\n",
       "  </thead>\n",
       "  <tbody>\n",
       "    <tr>\n",
       "      <th>0</th>\n",
       "      <td>Andhra Pradesh</td>\n",
       "      <td>7124940</td>\n",
       "      <td>3643560</td>\n",
       "      <td>3719483</td>\n",
       "    </tr>\n",
       "    <tr>\n",
       "      <th>1</th>\n",
       "      <td>Arunachal Pradesh</td>\n",
       "      <td>225979</td>\n",
       "      <td>81762</td>\n",
       "      <td>59619</td>\n",
       "    </tr>\n",
       "    <tr>\n",
       "      <th>2</th>\n",
       "      <td>Assam</td>\n",
       "      <td>2922714</td>\n",
       "      <td>1351662</td>\n",
       "      <td>881463</td>\n",
       "    </tr>\n",
       "    <tr>\n",
       "      <th>3</th>\n",
       "      <td>Bihar</td>\n",
       "      <td>14934274</td>\n",
       "      <td>4880432</td>\n",
       "      <td>3067878</td>\n",
       "    </tr>\n",
       "    <tr>\n",
       "      <th>4</th>\n",
       "      <td>Chhattisgarh</td>\n",
       "      <td>3231614</td>\n",
       "      <td>1405827</td>\n",
       "      <td>1000850</td>\n",
       "    </tr>\n",
       "  </tbody>\n",
       "</table>\n",
       "</div>"
      ],
      "text/plain": [
       "            State/UT  Primary - (I-V) - Total  Middle - (VI-VIII) - Total  \\\n",
       "0     Andhra Pradesh                  7124940                     3643560   \n",
       "1  Arunachal Pradesh                   225979                       81762   \n",
       "2              Assam                  2922714                     1351662   \n",
       "3              Bihar                 14934274                     4880432   \n",
       "4       Chhattisgarh                  3231614                     1405827   \n",
       "\n",
       "   High/Higher Secondary - (IX-XII) - Total  \n",
       "0                                   3719483  \n",
       "1                                     59619  \n",
       "2                                    881463  \n",
       "3                                   3067878  \n",
       "4                                   1000850  "
      ]
     },
     "execution_count": 23,
     "metadata": {},
     "output_type": "execute_result"
    }
   ],
   "source": [
    "scholars = scholars[['State/UT', 'Primary - (I-V) - Total', 'Middle - (VI-VIII) - Total', 'High/Higher Secondary - (IX-XII) - Total']]\n",
    "scholars.head()"
   ]
  },
  {
   "cell_type": "code",
   "execution_count": 24,
   "metadata": {
    "collapsed": false
   },
   "outputs": [
    {
     "data": {
      "text/html": [
       "<div>\n",
       "<table border=\"1\" class=\"dataframe\">\n",
       "  <thead>\n",
       "    <tr style=\"text-align: right;\">\n",
       "      <th></th>\n",
       "      <th>State/UT</th>\n",
       "      <th>Primary - (I-V) - Total</th>\n",
       "      <th>Middle - (VI-VIII) - Total</th>\n",
       "      <th>High/Higher Secondary - (IX-XII) - Total</th>\n",
       "      <th>#scholars-total</th>\n",
       "    </tr>\n",
       "  </thead>\n",
       "  <tbody>\n",
       "    <tr>\n",
       "      <th>0</th>\n",
       "      <td>Andhra Pradesh</td>\n",
       "      <td>7124940</td>\n",
       "      <td>3643560</td>\n",
       "      <td>3719483</td>\n",
       "      <td>14487983</td>\n",
       "    </tr>\n",
       "    <tr>\n",
       "      <th>1</th>\n",
       "      <td>Arunachal Pradesh</td>\n",
       "      <td>225979</td>\n",
       "      <td>81762</td>\n",
       "      <td>59619</td>\n",
       "      <td>367360</td>\n",
       "    </tr>\n",
       "    <tr>\n",
       "      <th>2</th>\n",
       "      <td>Assam</td>\n",
       "      <td>2922714</td>\n",
       "      <td>1351662</td>\n",
       "      <td>881463</td>\n",
       "      <td>5155839</td>\n",
       "    </tr>\n",
       "    <tr>\n",
       "      <th>3</th>\n",
       "      <td>Bihar</td>\n",
       "      <td>14934274</td>\n",
       "      <td>4880432</td>\n",
       "      <td>3067878</td>\n",
       "      <td>22882584</td>\n",
       "    </tr>\n",
       "    <tr>\n",
       "      <th>4</th>\n",
       "      <td>Chhattisgarh</td>\n",
       "      <td>3231614</td>\n",
       "      <td>1405827</td>\n",
       "      <td>1000850</td>\n",
       "      <td>5638291</td>\n",
       "    </tr>\n",
       "  </tbody>\n",
       "</table>\n",
       "</div>"
      ],
      "text/plain": [
       "            State/UT  Primary - (I-V) - Total  Middle - (VI-VIII) - Total  \\\n",
       "0     Andhra Pradesh                  7124940                     3643560   \n",
       "1  Arunachal Pradesh                   225979                       81762   \n",
       "2              Assam                  2922714                     1351662   \n",
       "3              Bihar                 14934274                     4880432   \n",
       "4       Chhattisgarh                  3231614                     1405827   \n",
       "\n",
       "   High/Higher Secondary - (IX-XII) - Total  #scholars-total  \n",
       "0                                   3719483         14487983  \n",
       "1                                     59619           367360  \n",
       "2                                    881463          5155839  \n",
       "3                                   3067878         22882584  \n",
       "4                                   1000850          5638291  "
      ]
     },
     "execution_count": 24,
     "metadata": {},
     "output_type": "execute_result"
    }
   ],
   "source": [
    "total_list = []\n",
    "for idx in scholars.index:\n",
    "    row = scholars.iloc[idx]\n",
    "    total_list.append(row['Primary - (I-V) - Total'] + \n",
    "                      row['Middle - (VI-VIII) - Total'] + \n",
    "                      row['High/Higher Secondary - (IX-XII) - Total'])\n",
    "    \n",
    "scholars['#scholars-total'] = total_list\n",
    "scholars.head()"
   ]
  },
  {
   "cell_type": "code",
   "execution_count": 25,
   "metadata": {
    "collapsed": true
   },
   "outputs": [],
   "source": [
    "scholars_per_df = pd.DataFrame(columns=['State/UT','students-pass-percentage'])"
   ]
  },
  {
   "cell_type": "code",
   "execution_count": 26,
   "metadata": {
    "collapsed": false
   },
   "outputs": [
    {
     "data": {
      "text/html": [
       "<div>\n",
       "<table border=\"1\" class=\"dataframe\">\n",
       "  <thead>\n",
       "    <tr style=\"text-align: right;\">\n",
       "      <th></th>\n",
       "      <th>State/UT</th>\n",
       "      <th>students-pass-percentage</th>\n",
       "    </tr>\n",
       "  </thead>\n",
       "  <tbody>\n",
       "    <tr>\n",
       "      <th>0</th>\n",
       "      <td>Andhra Pradesh</td>\n",
       "      <td>79.571660</td>\n",
       "    </tr>\n",
       "    <tr>\n",
       "      <th>1</th>\n",
       "      <td>Arunachal Pradesh</td>\n",
       "      <td>86.037018</td>\n",
       "    </tr>\n",
       "    <tr>\n",
       "      <th>2</th>\n",
       "      <td>Assam</td>\n",
       "      <td>85.399720</td>\n",
       "    </tr>\n",
       "    <tr>\n",
       "      <th>3</th>\n",
       "      <td>Bihar</td>\n",
       "      <td>88.177945</td>\n",
       "    </tr>\n",
       "    <tr>\n",
       "      <th>4</th>\n",
       "      <td>Chhattisgarh</td>\n",
       "      <td>84.925008</td>\n",
       "    </tr>\n",
       "  </tbody>\n",
       "</table>\n",
       "</div>"
      ],
      "text/plain": [
       "            State/UT  students-pass-percentage\n",
       "0     Andhra Pradesh                 79.571660\n",
       "1  Arunachal Pradesh                 86.037018\n",
       "2              Assam                 85.399720\n",
       "3              Bihar                 88.177945\n",
       "4       Chhattisgarh                 84.925008"
      ]
     },
     "execution_count": 26,
     "metadata": {},
     "output_type": "execute_result"
    }
   ],
   "source": [
    "scholars_percentage = []\n",
    "for state in list(scholars['State/UT']):\n",
    "    #print(state,end=None)\n",
    "\n",
    "    #print(demography['#Expected Students'][demography['State/UT']==state])\n",
    "\n",
    "    temp = data[data['State/UT']==state]['#students-total']\n",
    "    exp_temp = scholars[scholars['State/UT']==state]['#scholars-total']\n",
    "    \n",
    "    scholars_per_df.loc[scholars_per_df.shape[0]] = [state, \n",
    "                                                     exp_temp.iloc[0] *100 / temp.iloc[0]]\n",
    "scholars_per_df.head()"
   ]
  },
  {
   "cell_type": "code",
   "execution_count": 27,
   "metadata": {
    "collapsed": false
   },
   "outputs": [
    {
     "data": {
      "text/html": [
       "<div>\n",
       "<table border=\"1\" class=\"dataframe\">\n",
       "  <thead>\n",
       "    <tr style=\"text-align: right;\">\n",
       "      <th></th>\n",
       "      <th>State/UT</th>\n",
       "      <th>students-pass-percentage</th>\n",
       "    </tr>\n",
       "  </thead>\n",
       "  <tbody>\n",
       "    <tr>\n",
       "      <th>28</th>\n",
       "      <td>Andaman and Nicobar Islands</td>\n",
       "      <td>77.479355</td>\n",
       "    </tr>\n",
       "    <tr>\n",
       "      <th>0</th>\n",
       "      <td>Andhra Pradesh</td>\n",
       "      <td>79.571660</td>\n",
       "    </tr>\n",
       "    <tr>\n",
       "      <th>1</th>\n",
       "      <td>Arunachal Pradesh</td>\n",
       "      <td>86.037018</td>\n",
       "    </tr>\n",
       "    <tr>\n",
       "      <th>2</th>\n",
       "      <td>Assam</td>\n",
       "      <td>85.399720</td>\n",
       "    </tr>\n",
       "    <tr>\n",
       "      <th>3</th>\n",
       "      <td>Bihar</td>\n",
       "      <td>88.177945</td>\n",
       "    </tr>\n",
       "  </tbody>\n",
       "</table>\n",
       "</div>"
      ],
      "text/plain": [
       "                       State/UT  students-pass-percentage\n",
       "28  Andaman and Nicobar Islands                 77.479355\n",
       "0                Andhra Pradesh                 79.571660\n",
       "1             Arunachal Pradesh                 86.037018\n",
       "2                         Assam                 85.399720\n",
       "3                         Bihar                 88.177945"
      ]
     },
     "execution_count": 27,
     "metadata": {},
     "output_type": "execute_result"
    }
   ],
   "source": [
    "scholars_per_df.sort_values('State/UT',inplace=True)\n",
    "scholars_per_df.head()"
   ]
  },
  {
   "cell_type": "code",
   "execution_count": 28,
   "metadata": {
    "collapsed": true
   },
   "outputs": [],
   "source": [
    "scholars_per_df.to_csv('students-pass-percentage.csv',index=False)"
   ]
  },
  {
   "cell_type": "code",
   "execution_count": null,
   "metadata": {
    "collapsed": true
   },
   "outputs": [],
   "source": []
  }
 ],
 "metadata": {
  "anaconda-cloud": {},
  "kernelspec": {
   "display_name": "Python [default]",
   "language": "python",
   "name": "python3"
  },
  "language_info": {
   "codemirror_mode": {
    "name": "ipython",
    "version": 3
   },
   "file_extension": ".py",
   "mimetype": "text/x-python",
   "name": "python",
   "nbconvert_exporter": "python",
   "pygments_lexer": "ipython3",
   "version": "3.5.2"
  }
 },
 "nbformat": 4,
 "nbformat_minor": 1
}
